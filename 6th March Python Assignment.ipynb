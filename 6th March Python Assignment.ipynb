{
 "cells": [
  {
   "cell_type": "markdown",
   "id": "027caec3-e98d-4b30-9bfc-3ec136c928fa",
   "metadata": {},
   "source": [
    "# __Ques 1__\n",
    "Statistics is a branch of mathematics that deals with the collection, analysis, interpretation, presentation, and organization of data. It is used to understand and make sense of numerical information, such as numerical measurements, quantities, or values, and to draw conclusions or make predictions based on that data.<br>\n",
    "Statistics involves a wide range of techniques, including probability theory, hypothesis testing, regression analysis, and data visualization, among others. It is widely used in various fields, including business, economics, social sciences, engineering, medicine, and many others, to make informed decisions based on data."
   ]
  },
  {
   "cell_type": "markdown",
   "id": "91132385-b591-46f5-8a38-da9590c7e266",
   "metadata": {},
   "source": [
    "# __Ques 2__\n",
    "__Descriptive Statistics:__\n",
    "Descriptive statistics involves the methods used to summarize and describe the characteristics of a data set. These statistics are used to describe the basic features of the data in a study, such as the measures of central tendency (mean, median, mode) and measures of variability (range, standard deviation). Descriptive statistics are used to provide insight into the data and help researchers summarize and understand the data. For example, if a researcher wants to describe the age distribution of a sample of participants, they might use descriptive statistics to calculate the mean and standard deviation of the ages in the sample.\n",
    "<br><br>\n",
    "__Inferential Statistics:__\n",
    "Inferential statistics involves the methods used to make inferences or predictions about a population based on a sample of data. These statistics are used to draw conclusions about the larger population based on the data collected from a smaller sample. Inferential statistics are used to determine whether the results observed in a study are due to chance or whether they represent a true difference or relationship in the population. For example, if a researcher wants to determine whether a new drug is effective in treating a particular condition, they might use inferential statistics to test whether the results observed in a sample of participants are likely to generalize to the larger population of people with the condition."
   ]
  },
  {
   "cell_type": "markdown",
   "id": "426fe06c-9fb1-4d5d-871e-a9040d0cb556",
   "metadata": {},
   "source": [
    "# __Ques 3__\n",
    "__Nominal Data:__\n",
    "Nominal data are categorical data that have no inherent order or ranking. These are data that are classified into categories or classes, but the categories themselves have no quantitative value. Examples of nominal data include the type of car a person drives, their eye color, or their gender.\n",
    "<br><br>\n",
    "__Ordinal Data:__\n",
    "Ordinal data are categorical data that have a natural order or ranking. The categories of ordinal data can be ranked or ordered based on some characteristic or quality. Examples of ordinal data include education level (e.g., high school, college, graduate degree), socioeconomic status (e.g., low, middle, high), or pain level (e.g., mild, moderate, severe).\n",
    "<br><br>\n",
    "__Interval Data:__\n",
    "Interval data are numerical data that have equal intervals between the values but no true zero point. This means that while the differences between the values are meaningful, there is no inherent zero point that represents the absence of the characteristic being measured. Examples of interval data include temperature (measured in Celsius or Fahrenheit), time (measured in minutes, hours, etc.), and IQ scores.\n",
    "<br><br>\n",
    "__Ratio Data:__\n",
    "Ratio data are numerical data that have equal intervals between the values and a true zero point. This means that zero represents the absence of the characteristic being measured, and the values can be compared using multiplication and division. Examples of ratio data include weight, height, length, time, and age."
   ]
  },
  {
   "cell_type": "markdown",
   "id": "106c52dd-8a92-4c6d-9144-6e9eb857ecd3",
   "metadata": {},
   "source": [
    "# __Ques 4__\n",
    "(i) Grading in exam: A+, A, B+, B, C+, C, D, E => ordinal data\n",
    "<br>\n",
    "(ii) Colour of mangoes: yellow, green, orange, red => nominal data\n",
    "<br>\n",
    "(iii) Height data of a class: [178.9, 179, 179.5, 176, 177.2, 178.3, 175.8,...] => continous data\n",
    "<br>\n",
    "(iv) Number of mangoes exported by a farm: [500, 600, 478, 672, ...] => discrete data\n",
    "<br>"
   ]
  },
  {
   "cell_type": "markdown",
   "id": "5f89be3b-bd2a-495d-bd6b-dd6d1a78621e",
   "metadata": {},
   "source": [
    "# __Ques 5__\n",
    "__Nominal Data:__\n",
    "Nominal data are categorical data that have no inherent order or ranking. These are data that are classified into categories or classes, but the categories themselves have no quantitative value. Examples of nominal data include the type of car a person drives, their eye color, or their gender.<br>\n",
    "__EX:__ gender of persons male or female\n",
    "<br><br>\n",
    "__Ordinal Data:__\n",
    "Ordinal data are categorical data that have a natural order or ranking. The categories of ordinal data can be ranked or ordered based on some characteristic or quality. Examples of ordinal data include education level (e.g., high school, college, graduate degree), socioeconomic status (e.g., low, middle, high), or pain level (e.g., mild, moderate, severe).<br>\n",
    "__EX:__ Rating from a customer like 1 , 2 , 3 etc\n",
    "<br><br>\n",
    "__Interval Data:__\n",
    "Interval data are numerical data that have equal intervals between the values but no true zero point. This means that while the differences between the values are meaningful, there is no inherent zero point that represents the absence of the characteristic being measured. Examples of interval data include temperature (measured in Celsius or Fahrenheit), time (measured in minutes, hours, etc.), and IQ scores.<br>\n",
    "__EX:__ Temprature in farenhite or \n",
    "<br><br>\n",
    "__Ratio Data:__\n",
    "Ratio data are numerical data that have equal intervals between the values and a true zero point. This means that zero represents the absence of the characteristic being measured, and the values can be compared using multiplication and division. Examples of ratio data include weight, height, length, time, and age.<br>\n",
    "__EX:__ Distance in km"
   ]
  },
  {
   "cell_type": "markdown",
   "id": "4e8b2e6d-ce6a-485d-aa6d-afac7b8a60b8",
   "metadata": {},
   "source": [
    "# __Ques 6__\n",
    "Understanding the level of measurement of a variable is important when analyzing data because it determines the types of statistical analyses and visualizations that can be used, as well as the types of conclusions that can be drawn from the data. Different levels of measurement have different properties, and each level of measurement provides different types of information about the variable being measured.\n",
    "<br>\n",
    "For example, nominal variables are variables that have no natural order or numerical interpretation, such as gender or ethnicity. They can be analyzed using frequency counts and percentages, but they cannot be ranked or compared in terms of magnitude. In contrast, interval variables, such as temperature in Celsius, have equal intervals between values but do not have a true zero point. They can be analyzed using measures of central tendency and dispersion, but ratios between values cannot be computed."
   ]
  },
  {
   "cell_type": "markdown",
   "id": "fba26fd6-8981-4759-8d4a-e0691802a1bc",
   "metadata": {},
   "source": [
    "# __Ques 7__\n",
    "In nomial data we will see all the categories in same way and don not prioritize or rank one category over other , <br>\n",
    "but in ordinal data we rank or prioritize teh category in a certain order"
   ]
  },
  {
   "cell_type": "markdown",
   "id": "26743cb5-c2b5-459a-9d74-317ade3fbd36",
   "metadata": {},
   "source": [
    "# __Ques 8__\n",
    "A box plot, also known as a box-and-whisker plot, is a type of plot that can be used to display data in terms of range."
   ]
  },
  {
   "cell_type": "markdown",
   "id": "913358ce-e47e-4cdc-a9c7-72bd60c34ec4",
   "metadata": {},
   "source": [
    "# __Ques 9__\n",
    "__Descriptive Statistics:__\n",
    "Descriptive statistics involves the methods used to summarize and describe the characteristics of a data set. These statistics are used to describe the basic features of the data in a study, such as the measures of central tendency (mean, median, mode) and measures of variability (range, standard deviation). Descriptive statistics are used to provide insight into the data and help researchers summarize and understand the data. For example, if a researcher wants to describe the age distribution of a sample of participants, they might use descriptive statistics to calculate the mean and standard deviation of the ages in the sample.\n",
    "<br><br>\n",
    "__Inferential Statistics:__\n",
    "Inferential statistics involves the methods used to make inferences or predictions about a population based on a sample of data. These statistics are used to draw conclusions about the larger population based on the data collected from a smaller sample. Inferential statistics are used to determine whether the results observed in a study are due to chance or whether they represent a true difference or relationship in the population. For example, if a researcher wants to determine whether a new drug is effective in treating a particular condition, they might use inferential statistics to test whether the results observed in a sample of participants are likely to generalize to the larger population of people with the condition."
   ]
  },
  {
   "cell_type": "markdown",
   "id": "d42d43f6-8116-4b54-b398-ecbcdd3ba5c3",
   "metadata": {},
   "source": [
    "# __Ques 10__\n",
    "Measure of central tendency:-<br>\n",
    "1. mean = It is used to tell the avg value of the data set\n",
    "2. median = It is used to tell the middel value of the data set\n",
    "3. mode = it is used to tell the highest occuring value of the data set\n",
    "<br><br>\n",
    "__Measure of Variance:-__\n",
    "1. range = It is used to tell the diffrence beyween teh highest and the lowest value in the data set\n",
    "2. variance = It is used to of how much the data points in a sample or population vary from the mean or average value. It is teh square of teh diffrence between mean and value\n",
    "3. standard deviation = It is used to spread of the data, but it is expressed in the same units as the original data."
   ]
  }
 ],
 "metadata": {
  "kernelspec": {
   "display_name": "Python 3 (ipykernel)",
   "language": "python",
   "name": "python3"
  },
  "language_info": {
   "codemirror_mode": {
    "name": "ipython",
    "version": 3
   },
   "file_extension": ".py",
   "mimetype": "text/x-python",
   "name": "python",
   "nbconvert_exporter": "python",
   "pygments_lexer": "ipython3",
   "version": "3.10.8"
  }
 },
 "nbformat": 4,
 "nbformat_minor": 5
}
